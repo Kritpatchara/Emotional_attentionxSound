{
 "cells": [
  {
   "cell_type": "markdown",
   "metadata": {},
   "source": [
    "Python setup"
   ]
  },
  {
   "cell_type": "code",
   "execution_count": 1,
   "metadata": {},
   "outputs": [],
   "source": [
    "import numpy as np\n",
    "import pandas as pd\n",
    "import researchpy\n",
    "import matplotlib.pyplot as plt"
   ]
  },
  {
   "cell_type": "markdown",
   "metadata": {},
   "source": [
    "Data setup"
   ]
  },
  {
   "cell_type": "code",
   "execution_count": 2,
   "metadata": {},
   "outputs": [
    {
     "name": "stderr",
     "output_type": "stream",
     "text": [
      "<>:2: SyntaxWarning: invalid escape sequence '\\E'\n",
      "<>:2: SyntaxWarning: invalid escape sequence '\\E'\n",
      "C:\\Users\\ROG\\AppData\\Local\\Temp\\ipykernel_14020\\918453199.py:2: SyntaxWarning: invalid escape sequence '\\E'\n",
      "  STAI_data = pd.read_excel(\"D:\\EmotionalAttention\\Results_STAI_DASS21.xlsx\", sheet_name = \"STAI\")\n"
     ]
    }
   ],
   "source": [
    "# Read file and select column\n",
    "STAI_data = pd.read_excel(\"D:\\EmotionalAttention\\Results_STAI_DASS21.xlsx\", sheet_name = \"STAI\")\n",
    "df_STAI = STAI_data[[\"รหัสอาสาสมัคร (ID)\", \"รอบที่ทำ\", \"SUM\"]]\n",
    "\n",
    "# Filter PN and NP\n",
    "df_STAI_PN = df_STAI[df_STAI[\"รหัสอาสาสมัคร (ID)\"].str.contains(\"PN\") == True].reset_index(drop=True)\n",
    "df_STAI_NP = df_STAI[df_STAI[\"รหัสอาสาสมัคร (ID)\"].str.contains(\"NP\") == True].reset_index(drop=True)\n",
    "\n",
    "# For PN\n",
    "df_STAI_PN_before_P = df_STAI_PN[df_STAI_PN[\"รอบที่ทำ\"] == 1].reset_index(drop=True)\n",
    "df_STAI_PN_after_P = df_STAI_PN[df_STAI_PN[\"รอบที่ทำ\"] == 2].reset_index(drop=True)\n",
    "df_STAI_PN_before_N = df_STAI_PN[df_STAI_PN[\"รอบที่ทำ\"] == 3].reset_index(drop=True)\n",
    "df_STAI_PN_after_N = df_STAI_PN[df_STAI_PN[\"รอบที่ทำ\"] == 4].reset_index(drop=True)\n",
    "\n",
    "# For NP\n",
    "df_STAI_NP_before_N = df_STAI_NP[df_STAI_NP[\"รอบที่ทำ\"] == 1].reset_index(drop=True)\n",
    "df_STAI_NP_after_N = df_STAI_NP[df_STAI_NP[\"รอบที่ทำ\"] == 2].reset_index(drop=True)\n",
    "df_STAI_NP_before_P = df_STAI_NP[df_STAI_NP[\"รอบที่ทำ\"] == 3].reset_index(drop=True)\n",
    "df_STAI_NP_after_P = df_STAI_NP[df_STAI_NP[\"รอบที่ทำ\"] == 4].reset_index(drop=True)\n",
    "\n",
    "# For all\n",
    "df_STAI_All_before_P = pd.concat([df_STAI_PN_before_P, df_STAI_NP_before_P], ignore_index=True)\n",
    "df_STAI_All_after_P = pd.concat([df_STAI_PN_after_P, df_STAI_NP_after_P], ignore_index=True)\n",
    "df_STAI_All_before_N = pd.concat([df_STAI_PN_before_N, df_STAI_NP_before_N], ignore_index=True)\n",
    "df_STAI_All_after_N = pd.concat([df_STAI_PN_after_N, df_STAI_NP_after_N], ignore_index=True)"
   ]
  },
  {
   "cell_type": "code",
   "execution_count": 3,
   "metadata": {},
   "outputs": [
    {
     "data": {
      "text/html": [
       "<div>\n",
       "<style scoped>\n",
       "    .dataframe tbody tr th:only-of-type {\n",
       "        vertical-align: middle;\n",
       "    }\n",
       "\n",
       "    .dataframe tbody tr th {\n",
       "        vertical-align: top;\n",
       "    }\n",
       "\n",
       "    .dataframe thead th {\n",
       "        text-align: right;\n",
       "    }\n",
       "</style>\n",
       "<table border=\"1\" class=\"dataframe\">\n",
       "  <thead>\n",
       "    <tr style=\"text-align: right;\">\n",
       "      <th></th>\n",
       "      <th>รอบที่ทำ</th>\n",
       "      <th>SUM</th>\n",
       "    </tr>\n",
       "  </thead>\n",
       "  <tbody>\n",
       "    <tr>\n",
       "      <th>count</th>\n",
       "      <td>30.000000</td>\n",
       "      <td>30.000000</td>\n",
       "    </tr>\n",
       "    <tr>\n",
       "      <th>mean</th>\n",
       "      <td>3.000000</td>\n",
       "      <td>47.866667</td>\n",
       "    </tr>\n",
       "    <tr>\n",
       "      <th>std</th>\n",
       "      <td>1.017095</td>\n",
       "      <td>14.301515</td>\n",
       "    </tr>\n",
       "    <tr>\n",
       "      <th>min</th>\n",
       "      <td>2.000000</td>\n",
       "      <td>20.000000</td>\n",
       "    </tr>\n",
       "    <tr>\n",
       "      <th>25%</th>\n",
       "      <td>2.000000</td>\n",
       "      <td>35.500000</td>\n",
       "    </tr>\n",
       "    <tr>\n",
       "      <th>50%</th>\n",
       "      <td>3.000000</td>\n",
       "      <td>51.000000</td>\n",
       "    </tr>\n",
       "    <tr>\n",
       "      <th>75%</th>\n",
       "      <td>4.000000</td>\n",
       "      <td>60.750000</td>\n",
       "    </tr>\n",
       "    <tr>\n",
       "      <th>max</th>\n",
       "      <td>4.000000</td>\n",
       "      <td>66.000000</td>\n",
       "    </tr>\n",
       "  </tbody>\n",
       "</table>\n",
       "</div>"
      ],
      "text/plain": [
       "        รอบที่ทำ        SUM\n",
       "count  30.000000  30.000000\n",
       "mean    3.000000  47.866667\n",
       "std     1.017095  14.301515\n",
       "min     2.000000  20.000000\n",
       "25%     2.000000  35.500000\n",
       "50%     3.000000  51.000000\n",
       "75%     4.000000  60.750000\n",
       "max     4.000000  66.000000"
      ]
     },
     "execution_count": 3,
     "metadata": {},
     "output_type": "execute_result"
    }
   ],
   "source": [
    "df_STAI_All_before_P.describe()\n",
    "df_STAI_All_after_P.describe()\n",
    "df_STAI_All_before_N.describe()\n",
    "df_STAI_All_after_N.describe()"
   ]
  },
  {
   "cell_type": "code",
   "execution_count": 4,
   "metadata": {},
   "outputs": [
    {
     "name": "stderr",
     "output_type": "stream",
     "text": [
      "c:\\Users\\ROG\\AppData\\Local\\Programs\\Python\\Python312\\Lib\\site-packages\\researchpy\\ttest.py:302: FutureWarning: Setting an item of incompatible dtype is deprecated and will raise in a future error of pandas. Value 'SUM' has dtype incompatible with float64, please explicitly cast to a compatible dtype first.\n",
      "  table.iloc[0,0] = group1_name\n",
      "c:\\Users\\ROG\\AppData\\Local\\Programs\\Python\\Python312\\Lib\\site-packages\\researchpy\\ttest.py:409: FutureWarning: Setting an item of incompatible dtype is deprecated and will raise in a future error of pandas. Value 'Difference (SUM - SUM) = ' has dtype incompatible with float64, please explicitly cast to a compatible dtype first.\n",
      "  table2.iloc[0,0] = f\"Difference ({group1_name} - {group2_name}) = \"\n",
      "c:\\Users\\ROG\\AppData\\Local\\Programs\\Python\\Python312\\Lib\\site-packages\\researchpy\\ttest.py:302: FutureWarning: Setting an item of incompatible dtype is deprecated and will raise in a future error of pandas. Value 'SUM' has dtype incompatible with float64, please explicitly cast to a compatible dtype first.\n",
      "  table.iloc[0,0] = group1_name\n",
      "c:\\Users\\ROG\\AppData\\Local\\Programs\\Python\\Python312\\Lib\\site-packages\\researchpy\\ttest.py:409: FutureWarning: Setting an item of incompatible dtype is deprecated and will raise in a future error of pandas. Value 'Difference (SUM - SUM) = ' has dtype incompatible with float64, please explicitly cast to a compatible dtype first.\n",
      "  table2.iloc[0,0] = f\"Difference ({group1_name} - {group2_name}) = \"\n",
      "c:\\Users\\ROG\\AppData\\Local\\Programs\\Python\\Python312\\Lib\\site-packages\\researchpy\\ttest.py:302: FutureWarning: Setting an item of incompatible dtype is deprecated and will raise in a future error of pandas. Value 'SUM' has dtype incompatible with float64, please explicitly cast to a compatible dtype first.\n",
      "  table.iloc[0,0] = group1_name\n",
      "c:\\Users\\ROG\\AppData\\Local\\Programs\\Python\\Python312\\Lib\\site-packages\\researchpy\\ttest.py:409: FutureWarning: Setting an item of incompatible dtype is deprecated and will raise in a future error of pandas. Value 'Difference (SUM - SUM) = ' has dtype incompatible with float64, please explicitly cast to a compatible dtype first.\n",
      "  table2.iloc[0,0] = f\"Difference ({group1_name} - {group2_name}) = \"\n",
      "c:\\Users\\ROG\\AppData\\Local\\Programs\\Python\\Python312\\Lib\\site-packages\\researchpy\\ttest.py:302: FutureWarning: Setting an item of incompatible dtype is deprecated and will raise in a future error of pandas. Value 'SUM' has dtype incompatible with float64, please explicitly cast to a compatible dtype first.\n",
      "  table.iloc[0,0] = group1_name\n",
      "c:\\Users\\ROG\\AppData\\Local\\Programs\\Python\\Python312\\Lib\\site-packages\\researchpy\\ttest.py:409: FutureWarning: Setting an item of incompatible dtype is deprecated and will raise in a future error of pandas. Value 'Difference (SUM - SUM) = ' has dtype incompatible with float64, please explicitly cast to a compatible dtype first.\n",
      "  table2.iloc[0,0] = f\"Difference ({group1_name} - {group2_name}) = \"\n",
      "c:\\Users\\ROG\\AppData\\Local\\Programs\\Python\\Python312\\Lib\\site-packages\\researchpy\\ttest.py:302: FutureWarning: Setting an item of incompatible dtype is deprecated and will raise in a future error of pandas. Value 'SUM' has dtype incompatible with float64, please explicitly cast to a compatible dtype first.\n",
      "  table.iloc[0,0] = group1_name\n",
      "c:\\Users\\ROG\\AppData\\Local\\Programs\\Python\\Python312\\Lib\\site-packages\\researchpy\\ttest.py:409: FutureWarning: Setting an item of incompatible dtype is deprecated and will raise in a future error of pandas. Value 'Difference (SUM - SUM) = ' has dtype incompatible with float64, please explicitly cast to a compatible dtype first.\n",
      "  table2.iloc[0,0] = f\"Difference ({group1_name} - {group2_name}) = \"\n",
      "c:\\Users\\ROG\\AppData\\Local\\Programs\\Python\\Python312\\Lib\\site-packages\\researchpy\\ttest.py:302: FutureWarning: Setting an item of incompatible dtype is deprecated and will raise in a future error of pandas. Value 'SUM' has dtype incompatible with float64, please explicitly cast to a compatible dtype first.\n",
      "  table.iloc[0,0] = group1_name\n",
      "c:\\Users\\ROG\\AppData\\Local\\Programs\\Python\\Python312\\Lib\\site-packages\\researchpy\\ttest.py:409: FutureWarning: Setting an item of incompatible dtype is deprecated and will raise in a future error of pandas. Value 'Difference (SUM - SUM) = ' has dtype incompatible with float64, please explicitly cast to a compatible dtype first.\n",
      "  table2.iloc[0,0] = f\"Difference ({group1_name} - {group2_name}) = \"\n"
     ]
    }
   ],
   "source": [
    "# T-test analysis\n",
    "\n",
    "des_PN_P, res_PN_P = researchpy.ttest(df_STAI_PN_before_P[\"SUM\"], df_STAI_PN_after_P[\"SUM\"], paired = True)\n",
    "des_PN_N, res_PN_N = researchpy.ttest(df_STAI_PN_before_N[\"SUM\"], df_STAI_PN_after_N[\"SUM\"], paired = True)\n",
    "des_NP_P, res_NP_P = researchpy.ttest(df_STAI_NP_before_P[\"SUM\"], df_STAI_NP_after_P[\"SUM\"], paired = True)\n",
    "des_NP_N, res_NP_N = researchpy.ttest(df_STAI_NP_before_N[\"SUM\"], df_STAI_NP_after_N[\"SUM\"], paired = True)\n",
    "des_All_P, res_All_P = researchpy.ttest(df_STAI_All_before_P[\"SUM\"], df_STAI_All_after_P[\"SUM\"], paired = True)\n",
    "des_All_N, res_All_N = researchpy.ttest(df_STAI_All_before_N[\"SUM\"], df_STAI_All_after_N[\"SUM\"], paired = True)"
   ]
  },
  {
   "cell_type": "code",
   "execution_count": 5,
   "metadata": {},
   "outputs": [
    {
     "name": "stdout",
     "output_type": "stream",
     "text": [
      "       Paired samples t-test  results\n",
      "0  Difference (SUM - SUM) =  -14.7333\n",
      "1      Degrees of freedom =   29.0000\n",
      "2                       t =   -5.6925\n",
      "3   Two side test p value =    0.0000\n",
      "4  Difference < 0 p value =    0.0000\n",
      "5  Difference > 0 p value =    1.0000\n",
      "6               Cohen's d =   -1.1768\n",
      "7               Hedge's g =   -1.1616\n",
      "8          Glass's delta1 =   -1.3721\n",
      "9        Point-Biserial r =   -0.7264\n",
      "  Variable     N       Mean         SD        SE  95% Conf.   Interval\n",
      "0      SUM  30.0  33.133333  10.737409  1.960374  29.123919  37.142748\n",
      "1      SUM  30.0  47.866667  14.301515  2.611087  42.526393  53.206940\n",
      "2     diff  30.0 -14.733333  14.176069  2.588184 -20.026764  -9.439902\n",
      "\n",
      "\n",
      "       Paired samples t-test  results\n",
      "0  Difference (SUM - SUM) =    6.0000\n",
      "1      Degrees of freedom =   29.0000\n",
      "2                       t =    3.0423\n",
      "3   Two side test p value =    0.0049\n",
      "4  Difference < 0 p value =    0.0025\n",
      "5  Difference > 0 p value =    0.9975\n",
      "6               Cohen's d =    0.6068\n",
      "7               Hedge's g =    0.5990\n",
      "8          Glass's delta1 =    0.5116\n",
      "9        Point-Biserial r =    0.4919\n",
      "  Variable     N       Mean         SD        SE  95% Conf.   Interval\n",
      "0      SUM  30.0  37.833333  11.727020  2.141051  33.454392  42.212274\n",
      "1      SUM  30.0  31.833333   8.047631  1.469290  28.828298  34.838368\n",
      "2     diff  30.0   6.000000  10.802299  1.972221   1.966355  10.033645\n"
     ]
    }
   ],
   "source": [
    "# T-test table\n",
    "print(res_All_N)\n",
    "print(des_All_N)\n",
    "print(\"\\n\")\n",
    "print(res_All_P)\n",
    "print(des_All_P)"
   ]
  },
  {
   "cell_type": "markdown",
   "metadata": {},
   "source": [
    "Not in use"
   ]
  },
  {
   "cell_type": "code",
   "execution_count": 6,
   "metadata": {},
   "outputs": [
    {
     "name": "stderr",
     "output_type": "stream",
     "text": [
      "<>:3: SyntaxWarning: invalid escape sequence '\\E'\n",
      "<>:3: SyntaxWarning: invalid escape sequence '\\E'\n",
      "C:\\Users\\ROG\\AppData\\Local\\Temp\\ipykernel_14020\\2051513532.py:3: SyntaxWarning: invalid escape sequence '\\E'\n",
      "  '''\n"
     ]
    },
    {
     "data": {
      "text/plain": [
       "'\\n# Read file and select column\\nSTAI_data = pd.read_excel(\"D:\\\\EmotionalAttention\\\\Results_STAI_DASS21.xlsx\", sheet_name = \"STAI\")\\ndf_STAI = STAI_data[[\"รหัสอาสาสมัคร (ID)\", \"รอบที่ทำ\", \"SUM\"]]\\n\\n# Create dataframe for PN and NP\\ndf_STAI_PN = pd.DataFrame({\"รหัสอาสาสมัคร (ID)\": [],\"รอบที่ทำ\": [], \"SUM\": []})\\ndf_STAI_NP = pd.DataFrame({\"รหัสอาสาสมัคร (ID)\": [],\"รอบที่ทำ\": [], \"SUM\": []})\\n\\n# Group PN and NP from ID\\nfor i in range(len(df_STAI)):\\n    if \"PN\" in df_STAI.loc[i, \"รหัสอาสาสมัคร (ID)\"]:\\n        df_STAI_PN.append(df_STAI.loc[i])\\nprint(df_STAI_PN)\\n\\n# pd.Series([3.3, \\'CS\\', \\'Paris\\'], index = df_STAI_PN.columns)\\n'"
      ]
     },
     "execution_count": 6,
     "metadata": {},
     "output_type": "execute_result"
    }
   ],
   "source": [
    "# Old\n",
    "\n",
    "'''\n",
    "# Read file and select column\n",
    "STAI_data = pd.read_excel(\"D:\\EmotionalAttention\\Results_STAI_DASS21.xlsx\", sheet_name = \"STAI\")\n",
    "df_STAI = STAI_data[[\"รหัสอาสาสมัคร (ID)\", \"รอบที่ทำ\", \"SUM\"]]\n",
    "\n",
    "# Create dataframe for PN and NP\n",
    "df_STAI_PN = pd.DataFrame({\"รหัสอาสาสมัคร (ID)\": [],\"รอบที่ทำ\": [], \"SUM\": []})\n",
    "df_STAI_NP = pd.DataFrame({\"รหัสอาสาสมัคร (ID)\": [],\"รอบที่ทำ\": [], \"SUM\": []})\n",
    "\n",
    "# Group PN and NP from ID\n",
    "for i in range(len(df_STAI)):\n",
    "    if \"PN\" in df_STAI.loc[i, \"รหัสอาสาสมัคร (ID)\"]:\n",
    "        df_STAI_PN.append(df_STAI.loc[i])\n",
    "print(df_STAI_PN)\n",
    "\n",
    "# pd.Series([3.3, 'CS', 'Paris'], index = df_STAI_PN.columns)\n",
    "'''"
   ]
  },
  {
   "cell_type": "code",
   "execution_count": 7,
   "metadata": {},
   "outputs": [],
   "source": [
    "\n",
    "# Find t-test\n",
    "from scipy.stats import ttest_rel\n",
    "t_test_PN_P = ttest_rel(df_STAI_PN_before_P['SUM'], df_STAI_PN_after_P['SUM'], nan_policy='omit')\n",
    "t_test_PN_N = ttest_rel(df_STAI_PN_before_N['SUM'], df_STAI_PN_after_N['SUM'], nan_policy='omit')\n",
    "t_test_NP_P = ttest_rel(df_STAI_NP_before_P['SUM'], df_STAI_NP_after_P['SUM'], nan_policy='omit')\n",
    "t_test_NP_N = ttest_rel(df_STAI_NP_before_N['SUM'], df_STAI_NP_after_N['SUM'], nan_policy='omit')\n",
    "t_test_All_P = ttest_rel(df_STAI_All_before_P['SUM'], df_STAI_All_after_P['SUM'], nan_policy='omit')\n",
    "t_test_All_N = ttest_rel(df_STAI_All_before_N['SUM'], df_STAI_All_after_N['SUM'], nan_policy='omit')"
   ]
  },
  {
   "cell_type": "code",
   "execution_count": 8,
   "metadata": {},
   "outputs": [
    {
     "name": "stdout",
     "output_type": "stream",
     "text": [
      "TtestResult(statistic=-5.692536675685282, pvalue=3.713858163289765e-06, df=29)\n",
      "TtestResult(statistic=3.0422556021702336, pvalue=0.0049475028948235055, df=29)\n"
     ]
    }
   ],
   "source": [
    "print(t_test_All_N)\n",
    "print(t_test_All_P)"
   ]
  }
 ],
 "metadata": {
  "kernelspec": {
   "display_name": "Python 3",
   "language": "python",
   "name": "python3"
  },
  "language_info": {
   "codemirror_mode": {
    "name": "ipython",
    "version": 3
   },
   "file_extension": ".py",
   "mimetype": "text/x-python",
   "name": "python",
   "nbconvert_exporter": "python",
   "pygments_lexer": "ipython3",
   "version": "3.12.0"
  }
 },
 "nbformat": 4,
 "nbformat_minor": 2
}
