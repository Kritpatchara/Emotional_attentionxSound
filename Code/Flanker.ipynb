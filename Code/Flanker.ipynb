{
 "cells": [
  {
   "cell_type": "code",
   "execution_count": 9,
   "metadata": {},
   "outputs": [],
   "source": [
    "import numpy as np\n",
    "import pandas as pd\n",
    "\n",
    "import os"
   ]
  },
  {
   "cell_type": "code",
   "execution_count": 15,
   "metadata": {},
   "outputs": [
    {
     "ename": "ValueError",
     "evalue": "No DataFrames found. Check if there are Excel files in the specified directory.",
     "output_type": "error",
     "traceback": [
      "\u001b[1;31m---------------------------------------------------------------------------\u001b[0m",
      "\u001b[1;31mValueError\u001b[0m                                Traceback (most recent call last)",
      "Cell \u001b[1;32mIn[15], line 37\u001b[0m\n\u001b[0;32m     35\u001b[0m \u001b[38;5;66;03m# Check if there are DataFrames to concatenate\u001b[39;00m\n\u001b[0;32m     36\u001b[0m \u001b[38;5;28;01mif\u001b[39;00m \u001b[38;5;129;01mnot\u001b[39;00m dfs:\n\u001b[1;32m---> 37\u001b[0m     \u001b[38;5;28;01mraise\u001b[39;00m \u001b[38;5;167;01mValueError\u001b[39;00m(\u001b[38;5;124m\"\u001b[39m\u001b[38;5;124mNo DataFrames found. Check if there are Excel files in the specified directory.\u001b[39m\u001b[38;5;124m\"\u001b[39m)\n\u001b[0;32m     39\u001b[0m \u001b[38;5;66;03m# Concatenate all DataFrames into a single DataFrame\u001b[39;00m\n\u001b[0;32m     40\u001b[0m combined_df \u001b[38;5;241m=\u001b[39m pd\u001b[38;5;241m.\u001b[39mconcat(dfs\u001b[38;5;241m.\u001b[39mvalues(), ignore_index\u001b[38;5;241m=\u001b[39m\u001b[38;5;28;01mTrue\u001b[39;00m)\n",
      "\u001b[1;31mValueError\u001b[0m: No DataFrames found. Check if there are Excel files in the specified directory."
     ]
    }
   ],
   "source": [
    "import pandas as pd\n",
    "import os\n",
    "\n",
    "# Specify the directory containing Excel files\n",
    "folder_path = r\"D:\\GitGit\\EmoAttenxSound\\data_envSound_csv\"\n",
    "\n",
    "# Check if the directory exists\n",
    "if not os.path.exists(folder_path):\n",
    "    raise FileNotFoundError(f\"The specified directory '{folder_path}' does not exist.\")\n",
    "\n",
    "# Get a list of Excel files in the directory\n",
    "excel_files = [file for file in os.listdir(folder_path) if file.endswith('.xlsx')]\n",
    "\n",
    "# Dictionary to store DataFrames\n",
    "dfs = {}\n",
    "\n",
    "# Iterate through each Excel file\n",
    "for file in excel_files:\n",
    "    # Create DataFrame with the same name as the Excel file (without extension)\n",
    "    df_name = os.path.splitext(file)[0]\n",
    "    \n",
    "    # Print the file name for debugging\n",
    "    print(f\"Processing file: {file}\")\n",
    "    \n",
    "    # Attempt to read Excel file into a DataFrame\n",
    "    try:\n",
    "        df = pd.read_excel(os.path.join(folder_path, file))\n",
    "    except Exception as e:\n",
    "        print(f\"Error reading '{file}': {e}\")\n",
    "        continue\n",
    "    \n",
    "    # Store the DataFrame in the dictionary\n",
    "    dfs[df_name] = df\n",
    "\n",
    "# Check if there are DataFrames to concatenate\n",
    "if not dfs:\n",
    "    raise ValueError(\"No DataFrames found. Check if there are Excel files in the specified directory.\")\n",
    "\n",
    "# Concatenate all DataFrames into a single DataFrame\n",
    "combined_df = pd.concat(dfs.values(), ignore_index=True)\n"
   ]
  },
  {
   "cell_type": "code",
   "execution_count": 10,
   "metadata": {},
   "outputs": [
    {
     "name": "stderr",
     "output_type": "stream",
     "text": [
      "<>:1: SyntaxWarning: invalid escape sequence '\\G'\n",
      "<>:1: SyntaxWarning: invalid escape sequence '\\G'\n",
      "C:\\Users\\ROG\\AppData\\Local\\Temp\\ipykernel_35944\\957527503.py:1: SyntaxWarning: invalid escape sequence '\\G'\n",
      "  folder_path = \"D:\\GitGit\\EmoAttenxSound\\data_envSound_csv\"\n"
     ]
    }
   ],
   "source": [
    "folder_path = \"D:\\GitGit\\EmoAttenxSound\\data_envSound_csv\"\n",
    "\n",
    "# Initialize an empty dictionary to store DataFrames\n",
    "dataframes = {}\n",
    "\n",
    "# Loop through each file in the folder\n",
    "for file_name in os.listdir(folder_path):\n",
    "    if file_name.endswith('.xlsx') or file_name.endswith('.xls'):\n",
    "        # Create the full path to the Excel file\n",
    "        file_path = os.path.join(folder_path, file_name)\n",
    "        \n",
    "        # Read the Excel file into a DataFrame\n",
    "        df = pd.read_excel(file_path)\n",
    "        \n",
    "        # Use the Excel file name (without extension) as the DataFrame name\n",
    "        df_name = os.path.splitext(file_name)[0]\n",
    "        \n",
    "        # Store the DataFrame in the dictionary with the specified name\n",
    "        dataframes[df_name] = df"
   ]
  }
 ],
 "metadata": {
  "kernelspec": {
   "display_name": "Python 3",
   "language": "python",
   "name": "python3"
  },
  "language_info": {
   "codemirror_mode": {
    "name": "ipython",
    "version": 3
   },
   "file_extension": ".py",
   "mimetype": "text/x-python",
   "name": "python",
   "nbconvert_exporter": "python",
   "pygments_lexer": "ipython3",
   "version": "3.12.0"
  }
 },
 "nbformat": 4,
 "nbformat_minor": 2
}
