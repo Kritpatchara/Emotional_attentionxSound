{
 "cells": [
  {
   "cell_type": "markdown",
   "metadata": {},
   "source": [
    "Python setup"
   ]
  },
  {
   "cell_type": "code",
   "execution_count": 2,
   "metadata": {},
   "outputs": [],
   "source": [
    "import numpy as np\n",
    "import pandas as pd\n",
    "import researchpy\n",
    "import plotly.graph_objects as go\n",
    "import matplotlib.pyplot as plt\n",
    "from plotly.subplots import make_subplots"
   ]
  },
  {
   "cell_type": "markdown",
   "metadata": {},
   "source": [
    "Data setup"
   ]
  },
  {
   "cell_type": "code",
   "execution_count": 3,
   "metadata": {},
   "outputs": [
    {
     "name": "stderr",
     "output_type": "stream",
     "text": [
      "<>:2: SyntaxWarning: invalid escape sequence '\\E'\n",
      "<>:2: SyntaxWarning: invalid escape sequence '\\E'\n",
      "C:\\Users\\ROG\\AppData\\Local\\Temp\\ipykernel_2872\\918453199.py:2: SyntaxWarning: invalid escape sequence '\\E'\n",
      "  STAI_data = pd.read_excel(\"D:\\EmotionalAttention\\Results_STAI_DASS21.xlsx\", sheet_name = \"STAI\")\n"
     ]
    }
   ],
   "source": [
    "# Read file and select column\n",
    "STAI_data = pd.read_excel(\"D:\\GitGit\\EmoAttenxSound\\Results_STAI_DASS21.xlsx\", sheet_name = \"STAI\")\n",
    "df_STAI = STAI_data[[\"รหัสอาสาสมัคร (ID)\", \"รอบที่ทำ\", \"SUM\"]]\n",
    "\n",
    "# Filter PN and NP\n",
    "df_STAI_PN = df_STAI[df_STAI[\"รหัสอาสาสมัคร (ID)\"].str.contains(\"PN\") == True].reset_index(drop=True)\n",
    "df_STAI_NP = df_STAI[df_STAI[\"รหัสอาสาสมัคร (ID)\"].str.contains(\"NP\") == True].reset_index(drop=True)\n",
    "\n",
    "# For PN\n",
    "df_STAI_PN_before_P = df_STAI_PN[df_STAI_PN[\"รอบที่ทำ\"] == 1].reset_index(drop=True)\n",
    "df_STAI_PN_after_P = df_STAI_PN[df_STAI_PN[\"รอบที่ทำ\"] == 2].reset_index(drop=True)\n",
    "df_STAI_PN_before_N = df_STAI_PN[df_STAI_PN[\"รอบที่ทำ\"] == 3].reset_index(drop=True)\n",
    "df_STAI_PN_after_N = df_STAI_PN[df_STAI_PN[\"รอบที่ทำ\"] == 4].reset_index(drop=True)\n",
    "\n",
    "# For NP\n",
    "df_STAI_NP_before_N = df_STAI_NP[df_STAI_NP[\"รอบที่ทำ\"] == 1].reset_index(drop=True)\n",
    "df_STAI_NP_after_N = df_STAI_NP[df_STAI_NP[\"รอบที่ทำ\"] == 2].reset_index(drop=True)\n",
    "df_STAI_NP_before_P = df_STAI_NP[df_STAI_NP[\"รอบที่ทำ\"] == 3].reset_index(drop=True)\n",
    "df_STAI_NP_after_P = df_STAI_NP[df_STAI_NP[\"รอบที่ทำ\"] == 4].reset_index(drop=True)\n",
    "\n",
    "# For all\n",
    "df_STAI_All_before_P = pd.concat([df_STAI_PN_before_P, df_STAI_NP_before_P], ignore_index=True)\n",
    "df_STAI_All_after_P = pd.concat([df_STAI_PN_after_P, df_STAI_NP_after_P], ignore_index=True)\n",
    "df_STAI_All_before_N = pd.concat([df_STAI_PN_before_N, df_STAI_NP_before_N], ignore_index=True)\n",
    "df_STAI_All_after_N = pd.concat([df_STAI_PN_after_N, df_STAI_NP_after_N], ignore_index=True)"
   ]
  },
  {
   "cell_type": "markdown",
   "metadata": {},
   "source": [
    "Result"
   ]
  },
  {
   "cell_type": "code",
   "execution_count": 4,
   "metadata": {},
   "outputs": [
    {
     "data": {
      "image/png": "[encoded data removed]",
      "text/plain": [
       "<Figure size 640x480 with 1 Axes>"
      ]
     },
     "metadata": {},
     "output_type": "display_data"
    }
   ],
   "source": [
    "# Dataframe setting for plotting and finding a mean\n",
    "df_STAI_before_P_mean_PN = [df_STAI_PN_before_P['SUM'].mean()]\n",
    "df_STAI_before_P_mean_NP = [df_STAI_NP_before_P['SUM'].mean()]\n",
    "df_STAI_after_P_mean_PN = [df_STAI_PN_after_P['SUM'].mean()]\n",
    "df_STAI_after_P_mean_NP = [df_STAI_NP_after_P['SUM'].mean()]\n",
    "df_STAI_before_N_mean_PN = [df_STAI_PN_before_N['SUM'].mean()]\n",
    "df_STAI_before_N_mean_NP = [df_STAI_NP_before_N['SUM'].mean()]\n",
    "df_STAI_after_N_mean_PN = [df_STAI_PN_after_N['SUM'].mean()]\n",
    "df_STAI_after_N_mean_NP = [df_STAI_NP_after_N['SUM'].mean()]\n",
    "\n",
    "# Calculate standard deviations\n",
    "std_before_P_mean_PN = np.std([df_STAI_PN_before_P['SUM'].mean(), df_STAI_NP_before_P['SUM'].mean()])\n",
    "std_after_P_mean_PN = np.std([df_STAI_PN_after_P['SUM'].mean(), df_STAI_NP_after_P['SUM'].mean()])\n",
    "std_before_N_mean_PN = np.std([df_STAI_PN_before_N['SUM'].mean(), df_STAI_NP_before_N['SUM'].mean()])\n",
    "std_after_N_mean_PN = np.std([df_STAI_PN_after_N['SUM'].mean(), df_STAI_NP_after_N['SUM'].mean()])\n",
    "\n",
    "plt.rcParams['font.family'] = 'Times New Roman'\n",
    "categories = [\"PN Group\", \"NP Group\"]\n",
    "bar_width = 0.2\n",
    "\n",
    "# Grouped bar plot dataframe\n",
    "df_STAI_before_P_plot = [df_STAI_PN_before_P['SUM'].mean(), df_STAI_NP_before_N['SUM'].mean()]\n",
    "df_STAI_after_P_plot = [df_STAI_PN_after_P['SUM'].mean(), df_STAI_NP_after_N['SUM'].mean()]\n",
    "df_STAI_before_N_plot = [df_STAI_PN_before_N['SUM'].mean(), df_STAI_NP_before_P['SUM'].mean()]\n",
    "df_STAI_after_N_plot = [df_STAI_PN_after_N['SUM'].mean(), df_STAI_NP_after_P['SUM'].mean()]\n",
    "\n",
    "# Plotting the grouped bar plot\n",
    "bar_width = 0.2\n",
    "bar_positions = np.arange(len(categories))\n",
    "\n",
    "# Before Positive\n",
    "plt.bar(bar_positions - 1.5*bar_width, [df_STAI_before_P_mean_PN[0], df_STAI_before_N_mean_NP[0]], width=bar_width, label='Before Positive', color=['blue', 'orange'])\n",
    "# After Positive\n",
    "plt.bar(bar_positions - 0.5*bar_width, [df_STAI_after_P_mean_PN[0], df_STAI_after_N_mean_NP[0]], width=bar_width, label='After Positive', color=['green', 'red'])\n",
    "# Before Negative\n",
    "plt.bar(bar_positions + 0.5*bar_width, [df_STAI_before_N_mean_PN[0], df_STAI_before_P_mean_NP[0]], width=bar_width, label='Before Negative', color=['orange', 'blue'])\n",
    "# After Negative\n",
    "plt.bar(bar_positions + 1.5*bar_width, [df_STAI_after_N_mean_PN[0], df_STAI_after_P_mean_NP[0]], width=bar_width, label='After Negative', color=['red', 'green'])\n",
    "\n",
    "# plt.xlabel(\"Order\")\n",
    "plt.ylabel(\"STAI mean score\")\n",
    "plt.xticks(bar_positions, categories)\n",
    "plt.legend()\n",
    "\n",
    "plt.show()"
   ]
  },
  {
   "cell_type": "code",
   "execution_count": 5,
   "metadata": {},
   "outputs": [
    {
     "ename": "NameError",
     "evalue": "name 'std_before_P_mean_NP' is not defined",
     "output_type": "error",
     "traceback": [
      "\u001b[1;31m---------------------------------------------------------------------------\u001b[0m",
      "\u001b[1;31mNameError\u001b[0m                                 Traceback (most recent call last)",
      "Cell \u001b[1;32mIn[5], line 41\u001b[0m\n\u001b[0;32m     36\u001b[0m plt\u001b[38;5;241m.\u001b[39mbar(bar_positions \u001b[38;5;241m-\u001b[39m \u001b[38;5;241m0.5\u001b[39m\u001b[38;5;241m*\u001b[39mbar_width, [df_STAI_after_P_mean_PN[\u001b[38;5;241m0\u001b[39m], df_STAI_after_N_mean_NP[\u001b[38;5;241m0\u001b[39m]],\n\u001b[0;32m     37\u001b[0m         yerr\u001b[38;5;241m=\u001b[39m[std_after_P_mean_PN, std_after_N_mean_PN],\n\u001b[0;32m     38\u001b[0m         width\u001b[38;5;241m=\u001b[39mbar_width, label\u001b[38;5;241m=\u001b[39m\u001b[38;5;124m'\u001b[39m\u001b[38;5;124mAfter Positive\u001b[39m\u001b[38;5;124m'\u001b[39m, color\u001b[38;5;241m=\u001b[39m[\u001b[38;5;124m'\u001b[39m\u001b[38;5;124mgreen\u001b[39m\u001b[38;5;124m'\u001b[39m, \u001b[38;5;124m'\u001b[39m\u001b[38;5;124mred\u001b[39m\u001b[38;5;124m'\u001b[39m])\n\u001b[0;32m     39\u001b[0m \u001b[38;5;66;03m# Before Negative\u001b[39;00m\n\u001b[0;32m     40\u001b[0m plt\u001b[38;5;241m.\u001b[39mbar(bar_positions \u001b[38;5;241m+\u001b[39m \u001b[38;5;241m0.5\u001b[39m\u001b[38;5;241m*\u001b[39mbar_width, [df_STAI_before_N_mean_PN[\u001b[38;5;241m0\u001b[39m], df_STAI_before_P_mean_NP[\u001b[38;5;241m0\u001b[39m]],\n\u001b[1;32m---> 41\u001b[0m         yerr\u001b[38;5;241m=\u001b[39m[std_before_N_mean_PN, \u001b[43mstd_before_P_mean_NP\u001b[49m],\n\u001b[0;32m     42\u001b[0m         width\u001b[38;5;241m=\u001b[39mbar_width, label\u001b[38;5;241m=\u001b[39m\u001b[38;5;124m'\u001b[39m\u001b[38;5;124mBefore Negative\u001b[39m\u001b[38;5;124m'\u001b[39m, color\u001b[38;5;241m=\u001b[39m[\u001b[38;5;124m'\u001b[39m\u001b[38;5;124morange\u001b[39m\u001b[38;5;124m'\u001b[39m, \u001b[38;5;124m'\u001b[39m\u001b[38;5;124mblue\u001b[39m\u001b[38;5;124m'\u001b[39m])\n\u001b[0;32m     43\u001b[0m \u001b[38;5;66;03m# After Negative\u001b[39;00m\n\u001b[0;32m     44\u001b[0m plt\u001b[38;5;241m.\u001b[39mbar(bar_positions \u001b[38;5;241m+\u001b[39m \u001b[38;5;241m1.5\u001b[39m\u001b[38;5;241m*\u001b[39mbar_width, [df_STAI_after_N_mean_PN[\u001b[38;5;241m0\u001b[39m], df_STAI_after_P_mean_NP[\u001b[38;5;241m0\u001b[39m]],\n\u001b[0;32m     45\u001b[0m         yerr\u001b[38;5;241m=\u001b[39m[std_after_N_mean_PN, std_after_P_mean_NP],\n\u001b[0;32m     46\u001b[0m         width\u001b[38;5;241m=\u001b[39mbar_width, label\u001b[38;5;241m=\u001b[39m\u001b[38;5;124m'\u001b[39m\u001b[38;5;124mAfter Negative\u001b[39m\u001b[38;5;124m'\u001b[39m, color\u001b[38;5;241m=\u001b[39m[\u001b[38;5;124m'\u001b[39m\u001b[38;5;124mred\u001b[39m\u001b[38;5;124m'\u001b[39m, \u001b[38;5;124m'\u001b[39m\u001b[38;5;124mgreen\u001b[39m\u001b[38;5;124m'\u001b[39m])\n",
      "\u001b[1;31mNameError\u001b[0m: name 'std_before_P_mean_NP' is not defined"
     ]
    },
    {
     "data": {
      "image/png": "[encoded data removed]",
      "text/plain": [
       "<Figure size 640x480 with 1 Axes>"
      ]
     },
     "metadata": {},
     "output_type": "display_data"
    }
   ],
   "source": [
    "# Dataframe setting for plotting and finding a mean\n",
    "df_STAI_before_P_mean_PN = [df_STAI_PN_before_P['SUM'].mean()]\n",
    "df_STAI_before_P_mean_NP = [df_STAI_NP_before_P['SUM'].mean()]\n",
    "df_STAI_after_P_mean_PN = [df_STAI_PN_after_P['SUM'].mean()]\n",
    "df_STAI_after_P_mean_NP = [df_STAI_NP_after_P['SUM'].mean()]\n",
    "df_STAI_before_N_mean_PN = [df_STAI_PN_before_N['SUM'].mean()]\n",
    "df_STAI_before_N_mean_NP = [df_STAI_NP_before_N['SUM'].mean()]\n",
    "df_STAI_after_N_mean_PN = [df_STAI_PN_after_N['SUM'].mean()]\n",
    "df_STAI_after_N_mean_NP = [df_STAI_NP_after_N['SUM'].mean()]\n",
    "\n",
    "# Calculate standard deviations\n",
    "std_before_P_mean_PN = np.std([df_STAI_PN_before_P['SUM'].mean(), df_STAI_NP_before_P['SUM'].mean()])\n",
    "std_after_P_mean_PN = np.std([df_STAI_PN_after_P['SUM'].mean(), df_STAI_NP_after_P['SUM'].mean()])\n",
    "std_before_N_mean_PN = np.std([df_STAI_PN_before_N['SUM'].mean(), df_STAI_NP_before_N['SUM'].mean()])\n",
    "std_after_N_mean_PN = np.std([df_STAI_PN_after_N['SUM'].mean(), df_STAI_NP_after_N['SUM'].mean()])\n",
    "\n",
    "plt.rcParams['font.family'] = 'Times New Roman'\n",
    "categories = [\"PN Group\", \"NP Group\"]\n",
    "bar_width = 0.2\n",
    "\n",
    "# Grouped bar plot dataframe\n",
    "df_STAI_before_P_plot = [df_STAI_PN_before_P['SUM'].mean(), df_STAI_NP_before_N['SUM'].mean()]\n",
    "df_STAI_after_P_plot = [df_STAI_PN_after_P['SUM'].mean(), df_STAI_NP_after_N['SUM'].mean()]\n",
    "df_STAI_before_N_plot = [df_STAI_PN_before_N['SUM'].mean(), df_STAI_NP_before_P['SUM'].mean()]\n",
    "df_STAI_after_N_plot = [df_STAI_PN_after_N['SUM'].mean(), df_STAI_NP_after_P['SUM'].mean()]\n",
    "\n",
    "# Plotting the grouped bar plot\n",
    "bar_width = 0.2\n",
    "bar_positions = np.arange(len(categories))\n",
    "\n",
    "# Before Positive\n",
    "plt.bar(bar_positions - 1.5*bar_width, [df_STAI_before_P_mean_PN[0], df_STAI_before_N_mean_NP[0]],\n",
    "        yerr=[std_before_P_mean_PN, std_before_N_mean_PN],\n",
    "        width=bar_width, label='Before Positive', color=['blue', 'orange'])\n",
    "# After Positive\n",
    "plt.bar(bar_positions - 0.5*bar_width, [df_STAI_after_P_mean_PN[0], df_STAI_after_N_mean_NP[0]],\n",
    "        yerr=[std_after_P_mean_PN, std_after_N_mean_PN],\n",
    "        width=bar_width, label='After Positive', color=['green', 'red'])\n",
    "# Before Negative\n",
    "plt.bar(bar_positions + 0.5*bar_width, [df_STAI_before_N_mean_PN[0], df_STAI_before_P_mean_NP[0]],\n",
    "        yerr=[std_before_N_mean_PN, std_before_P_mean_NP],\n",
    "        width=bar_width, label='Before Negative', color=['orange', 'blue'])\n",
    "# After Negative\n",
    "plt.bar(bar_positions + 1.5*bar_width, [df_STAI_after_N_mean_PN[0], df_STAI_after_P_mean_NP[0]],\n",
    "        yerr=[std_after_N_mean_PN, std_after_P_mean_NP],\n",
    "        width=bar_width, label='After Negative', color=['red', 'green'])\n",
    "\n",
    "plt.xlabel(\"Order\")\n",
    "plt.ylabel(\"STAI mean score\")\n",
    "plt.xticks(bar_positions, categories)\n",
    "plt.legend()\n",
    "\n",
    "plt.show()\n"
   ]
  },
  {
   "cell_type": "code",
   "execution_count": null,
   "metadata": {},
   "outputs": [
    {
     "name": "stderr",
     "output_type": "stream",
     "text": [
      "c:\\Users\\ROG\\AppData\\Local\\Programs\\Python\\Python312\\Lib\\site-packages\\researchpy\\ttest.py:302: FutureWarning:\n",
      "\n",
      "Setting an item of incompatible dtype is deprecated and will raise in a future error of pandas. Value 'SUM' has dtype incompatible with float64, please explicitly cast to a compatible dtype first.\n",
      "\n",
      "c:\\Users\\ROG\\AppData\\Local\\Programs\\Python\\Python312\\Lib\\site-packages\\researchpy\\ttest.py:409: FutureWarning:\n",
      "\n",
      "Setting an item of incompatible dtype is deprecated and will raise in a future error of pandas. Value 'Difference (SUM - SUM) = ' has dtype incompatible with float64, please explicitly cast to a compatible dtype first.\n",
      "\n",
      "c:\\Users\\ROG\\AppData\\Local\\Programs\\Python\\Python312\\Lib\\site-packages\\researchpy\\ttest.py:302: FutureWarning:\n",
      "\n",
      "Setting an item of incompatible dtype is deprecated and will raise in a future error of pandas. Value 'SUM' has dtype incompatible with float64, please explicitly cast to a compatible dtype first.\n",
      "\n",
      "c:\\Users\\ROG\\AppData\\Local\\Programs\\Python\\Python312\\Lib\\site-packages\\researchpy\\ttest.py:409: FutureWarning:\n",
      "\n",
      "Setting an item of incompatible dtype is deprecated and will raise in a future error of pandas. Value 'Difference (SUM - SUM) = ' has dtype incompatible with float64, please explicitly cast to a compatible dtype first.\n",
      "\n",
      "c:\\Users\\ROG\\AppData\\Local\\Programs\\Python\\Python312\\Lib\\site-packages\\researchpy\\ttest.py:302: FutureWarning:\n",
      "\n",
      "Setting an item of incompatible dtype is deprecated and will raise in a future error of pandas. Value 'SUM' has dtype incompatible with float64, please explicitly cast to a compatible dtype first.\n",
      "\n",
      "c:\\Users\\ROG\\AppData\\Local\\Programs\\Python\\Python312\\Lib\\site-packages\\researchpy\\ttest.py:409: FutureWarning:\n",
      "\n",
      "Setting an item of incompatible dtype is deprecated and will raise in a future error of pandas. Value 'Difference (SUM - SUM) = ' has dtype incompatible with float64, please explicitly cast to a compatible dtype first.\n",
      "\n",
      "c:\\Users\\ROG\\AppData\\Local\\Programs\\Python\\Python312\\Lib\\site-packages\\researchpy\\ttest.py:302: FutureWarning:\n",
      "\n",
      "Setting an item of incompatible dtype is deprecated and will raise in a future error of pandas. Value 'SUM' has dtype incompatible with float64, please explicitly cast to a compatible dtype first.\n",
      "\n",
      "c:\\Users\\ROG\\AppData\\Local\\Programs\\Python\\Python312\\Lib\\site-packages\\researchpy\\ttest.py:409: FutureWarning:\n",
      "\n",
      "Setting an item of incompatible dtype is deprecated and will raise in a future error of pandas. Value 'Difference (SUM - SUM) = ' has dtype incompatible with float64, please explicitly cast to a compatible dtype first.\n",
      "\n",
      "c:\\Users\\ROG\\AppData\\Local\\Programs\\Python\\Python312\\Lib\\site-packages\\researchpy\\ttest.py:302: FutureWarning:\n",
      "\n",
      "Setting an item of incompatible dtype is deprecated and will raise in a future error of pandas. Value 'SUM' has dtype incompatible with float64, please explicitly cast to a compatible dtype first.\n",
      "\n",
      "c:\\Users\\ROG\\AppData\\Local\\Programs\\Python\\Python312\\Lib\\site-packages\\researchpy\\ttest.py:409: FutureWarning:\n",
      "\n",
      "Setting an item of incompatible dtype is deprecated and will raise in a future error of pandas. Value 'Difference (SUM - SUM) = ' has dtype incompatible with float64, please explicitly cast to a compatible dtype first.\n",
      "\n",
      "c:\\Users\\ROG\\AppData\\Local\\Programs\\Python\\Python312\\Lib\\site-packages\\researchpy\\ttest.py:302: FutureWarning:\n",
      "\n",
      "Setting an item of incompatible dtype is deprecated and will raise in a future error of pandas. Value 'SUM' has dtype incompatible with float64, please explicitly cast to a compatible dtype first.\n",
      "\n",
      "c:\\Users\\ROG\\AppData\\Local\\Programs\\Python\\Python312\\Lib\\site-packages\\researchpy\\ttest.py:409: FutureWarning:\n",
      "\n",
      "Setting an item of incompatible dtype is deprecated and will raise in a future error of pandas. Value 'Difference (SUM - SUM) = ' has dtype incompatible with float64, please explicitly cast to a compatible dtype first.\n",
      "\n"
     ]
    }
   ],
   "source": [
    "# T-test analysis\n",
    "\n",
    "des_PN_P, res_PN_P = researchpy.ttest(df_STAI_PN_before_P[\"SUM\"], df_STAI_PN_after_P[\"SUM\"], paired = True)\n",
    "des_PN_N, res_PN_N = researchpy.ttest(df_STAI_PN_before_N[\"SUM\"], df_STAI_PN_after_N[\"SUM\"], paired = True)\n",
    "des_NP_P, res_NP_P = researchpy.ttest(df_STAI_NP_before_P[\"SUM\"], df_STAI_NP_after_P[\"SUM\"], paired = True)\n",
    "des_NP_N, res_NP_N = researchpy.ttest(df_STAI_NP_before_N[\"SUM\"], df_STAI_NP_after_N[\"SUM\"], paired = True)\n",
    "des_All_P, res_All_P = researchpy.ttest(df_STAI_All_before_P[\"SUM\"], df_STAI_All_after_P[\"SUM\"], paired = True)\n",
    "des_All_N, res_All_N = researchpy.ttest(df_STAI_All_before_N[\"SUM\"], df_STAI_All_after_N[\"SUM\"], paired = True)"
   ]
  },
  {
   "cell_type": "code",
   "execution_count": null,
   "metadata": {},
   "outputs": [
    {
     "name": "stdout",
     "output_type": "stream",
     "text": [
      "       Paired samples t-test  results\n",
      "0  Difference (SUM - SUM) =  -14.7333\n",
      "1      Degrees of freedom =   29.0000\n",
      "2                       t =   -5.6925\n",
      "3   Two side test p value =    0.0000\n",
      "4  Difference < 0 p value =    0.0000\n",
      "5  Difference > 0 p value =    1.0000\n",
      "6               Cohen's d =   -1.1768\n",
      "7               Hedge's g =   -1.1616\n",
      "8          Glass's delta1 =   -1.3721\n",
      "9        Point-Biserial r =   -0.7264\n",
      "  Variable     N       Mean         SD        SE  95% Conf.   Interval\n",
      "0      SUM  30.0  33.133333  10.737409  1.960374  29.123919  37.142748\n",
      "1      SUM  30.0  47.866667  14.301515  2.611087  42.526393  53.206940\n",
      "2     diff  30.0 -14.733333  14.176069  2.588184 -20.026764  -9.439902\n",
      "\n",
      "\n",
      "       Paired samples t-test  results\n",
      "0  Difference (SUM - SUM) =    6.0000\n",
      "1      Degrees of freedom =   29.0000\n",
      "2                       t =    3.0423\n",
      "3   Two side test p value =    0.0049\n",
      "4  Difference < 0 p value =    0.0025\n",
      "5  Difference > 0 p value =    0.9975\n",
      "6               Cohen's d =    0.6068\n",
      "7               Hedge's g =    0.5990\n",
      "8          Glass's delta1 =    0.5116\n",
      "9        Point-Biserial r =    0.4919\n",
      "  Variable     N       Mean         SD        SE  95% Conf.   Interval\n",
      "0      SUM  30.0  37.833333  11.727020  2.141051  33.454392  42.212274\n",
      "1      SUM  30.0  31.833333   8.047631  1.469290  28.828298  34.838368\n",
      "2     diff  30.0   6.000000  10.802299  1.972221   1.966355  10.033645\n"
     ]
    }
   ],
   "source": [
    "# T-test table\n",
    "print(res_All_N)\n",
    "print(des_All_N)\n",
    "print(\"\\n\")\n",
    "print(res_All_P)\n",
    "print(des_All_P)"
   ]
  },
  {
   "cell_type": "markdown",
   "metadata": {},
   "source": [
    "Not in use"
   ]
  },
  {
   "cell_type": "code",
   "execution_count": null,
   "metadata": {},
   "outputs": [],
   "source": [
    "\n",
    "# Find t-test\n",
    "from scipy.stats import ttest_rel\n",
    "t_test_PN_P = ttest_rel(df_STAI_PN_before_P['SUM'], df_STAI_PN_after_P['SUM'], nan_policy='omit')\n",
    "t_test_PN_N = ttest_rel(df_STAI_PN_before_N['SUM'], df_STAI_PN_after_N['SUM'], nan_policy='omit')\n",
    "t_test_NP_P = ttest_rel(df_STAI_NP_before_P['SUM'], df_STAI_NP_after_P['SUM'], nan_policy='omit')\n",
    "t_test_NP_N = ttest_rel(df_STAI_NP_before_N['SUM'], df_STAI_NP_after_N['SUM'], nan_policy='omit')\n",
    "t_test_All_P = ttest_rel(df_STAI_All_before_P['SUM'], df_STAI_All_after_P['SUM'], nan_policy='omit')\n",
    "t_test_All_N = ttest_rel(df_STAI_All_before_N['SUM'], df_STAI_All_after_N['SUM'], nan_policy='omit')"
   ]
  }
 ],
 "metadata": {
  "kernelspec": {
   "display_name": "Python 3",
   "language": "python",
   "name": "python3"
  },
  "language_info": {
   "codemirror_mode": {
    "name": "ipython",
    "version": 3
   },
   "file_extension": ".py",
   "mimetype": "text/x-python",
   "name": "python",
   "nbconvert_exporter": "python",
   "pygments_lexer": "ipython3",
   "version": "3.12.0"
  }
 },
 "nbformat": 4,
 "nbformat_minor": 2
}
